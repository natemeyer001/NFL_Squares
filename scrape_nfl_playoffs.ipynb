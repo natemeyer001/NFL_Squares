{
 "cells": [
  {
   "cell_type": "code",
   "execution_count": 1,
   "id": "016450c7",
   "metadata": {},
   "outputs": [],
   "source": [
    "import pandas as pd\n",
    "import requests\n",
    "from bs4 import BeautifulSoup"
   ]
  },
  {
   "cell_type": "markdown",
   "id": "1c81fbf3",
   "metadata": {},
   "source": [
    "## Web-design\n",
    "(https://www.pro-football-reference.com/years/) has yearly results under \"Year\" column.\n",
    "\n",
    "(https://www.pro-football-reference.com/years/2020/) is the 2020 yearly data, with a table for \"Playoff Results\" that includes a box score for each game\n",
    "\n",
    "\"Playoff Results\" is the 3rd table for each year from 1970 and on. For 1966 through 1969 \"Playoff Results\" is the 2nd table for each AFL and NFL link"
   ]
  },
  {
   "cell_type": "markdown",
   "id": "4b58d2ff",
   "metadata": {},
   "source": [
    "## Function that gets all playoff game url for a given year\n",
    "Note: pre_merger is a boolean that help selects the appropriate table"
   ]
  },
  {
   "cell_type": "code",
   "execution_count": 2,
   "id": "14c4fdcb",
   "metadata": {},
   "outputs": [],
   "source": [
    "def getPlayoffURLs(url, pre_merger):\n",
    "    reqs = requests.get(url) \n",
    "    cleaned = reqs.text.replace(\"<!--\",\"\").replace(\"--!>\",\"\") # remove HTML comments to access tables\n",
    "    soup = BeautifulSoup(cleaned, 'html.parser')\n",
    "    table = soup.find_all('table')\n",
    "    \n",
    "    if(pre_merger):\n",
    "        tbody = table[1].find('tbody')\n",
    "    else:\n",
    "        tbody = table[2].find('tbody') \n",
    "    \n",
    "    tr_body = tbody.find_all('tr')\n",
    "    url_list = []\n",
    "    prefix = \"https://www.pro-football-reference.com\"\n",
    "    \n",
    "    \"\"\"box score is the 6th td element out of 8 for each table row\n",
    "    Get first box score lined up to be #8 and then skip 8 td elements to get the next box score\n",
    "    If the 6th td element is #8, then 5th=7, 4th=6, 3rd=5, 2nd=4, 1st=3\"\"\"\n",
    "    counter = 3\n",
    "    for trb in tr_body:\n",
    "        for td in trb.find_all('td'):\n",
    "            if(counter % 8 == 0):\n",
    "                elem = td.find(href=True)\n",
    "                url_list.append(prefix + elem['href'])\n",
    "            counter += 1 \n",
    "    \n",
    "    return(url_list)"
   ]
  },
  {
   "cell_type": "markdown",
   "id": "8382bfa0",
   "metadata": {},
   "source": [
    "## Function to go through url and return [teams, scores]"
   ]
  },
  {
   "cell_type": "code",
   "execution_count": 3,
   "id": "6a3cbdce",
   "metadata": {},
   "outputs": [],
   "source": [
    "def scrapeURL(URL):\n",
    "    page = requests.get(URL)\n",
    "    df_list = pd.read_html(page.text) # create a list from the webpage\n",
    "    df = df_list[0]\n",
    "    \n",
    "    # get the team names\n",
    "    away_team = df[\"Unnamed: 1\"][0]\n",
    "    home_team = df[\"Unnamed: 1\"][1]\n",
    "    teams = [away_team, home_team]\n",
    "    \n",
    "    # get the scores\n",
    "    away_scores = [int(df[\"1\"][0]), int(df[\"2\"][0]), int(df[\"3\"][0]), int(df[\"4\"][0])]\n",
    "    home_scores = [int(df[\"1\"][1]), int(df[\"2\"][1]), int(df[\"3\"][1]), int(df[\"4\"][1])]\n",
    "    scores = [away_scores, home_scores]\n",
    "    \n",
    "    return([teams, scores])"
   ]
  },
  {
   "cell_type": "markdown",
   "id": "a4805196",
   "metadata": {},
   "source": [
    "## Function to call scrapeURL for each game url"
   ]
  },
  {
   "cell_type": "code",
   "execution_count": 4,
   "id": "a73c9cee",
   "metadata": {},
   "outputs": [],
   "source": [
    "def iterateGames(data):\n",
    "    all_teams = []\n",
    "    all_scores = []\n",
    "    for year in range(len(data)):\n",
    "        for row in range(len(data[year])):\n",
    "            teams, scores = scrapeURL(data[year][row])\n",
    "            all_teams.append(teams)\n",
    "            all_scores.append(scores)\n",
    "    \n",
    "    return([all_teams, all_scores]) "
   ]
  },
  {
   "cell_type": "markdown",
   "id": "fb969e1b",
   "metadata": {},
   "source": [
    "## Function to create columns for the final digit of the score for each quater for both home and away teams"
   ]
  },
  {
   "cell_type": "code",
   "execution_count": 5,
   "id": "8a10d726",
   "metadata": {},
   "outputs": [],
   "source": [
    "def quarterScores(df):\n",
    "    # Create new column for individual quarters and set initial value to 0\n",
    "    df[\"Away Q1\"] = df.apply(lambda x: 0, axis=1)\n",
    "    df[\"Away Q2\"] = df.apply(lambda x: 0, axis=1)\n",
    "    df[\"Away Q3\"] = df.apply(lambda x: 0, axis=1)\n",
    "    df[\"Away Q4\"] = df.apply(lambda x: 0, axis=1)\n",
    "    df[\"Home Q1\"] = df.apply(lambda x: 0, axis=1)\n",
    "    df[\"Home Q2\"] = df.apply(lambda x: 0, axis=1)\n",
    "    df[\"Home Q3\"] = df.apply(lambda x: 0, axis=1)\n",
    "    df[\"Home Q4\"] = df.apply(lambda x: 0, axis=1)\n",
    "\n",
    "    # update score with only last digit for each quarter\n",
    "    for i in range(len(combined_df[\"Away\"])):\n",
    "        df[\"Away Q1\"].iloc[i] = df[\"Away score\"].iloc[i][0] % 10\n",
    "        df[\"Away Q2\"].iloc[i] = (df[\"Away score\"].iloc[i][1] + df[\"Away Q1\"].iloc[i]) % 10\n",
    "        df[\"Away Q3\"].iloc[i] = (df[\"Away score\"].iloc[i][2] + df[\"Away Q2\"].iloc[i]) % 10\n",
    "        df[\"Away Q4\"].iloc[i] = (df[\"Away score\"].iloc[i][3] + df[\"Away Q3\"].iloc[i]) % 10\n",
    "        df[\"Home Q1\"].iloc[i] = df[\"Home score\"].iloc[i][0] % 10\n",
    "        df[\"Home Q2\"].iloc[i] = (df[\"Home score\"].iloc[i][1] + df[\"Home Q1\"].iloc[i]) % 10\n",
    "        df[\"Home Q3\"].iloc[i] = (df[\"Home score\"].iloc[i][2] + df[\"Home Q2\"].iloc[i]) % 10\n",
    "        df[\"Home Q4\"].iloc[i] = (df[\"Home score\"].iloc[i][3] + df[\"Home Q3\"].iloc[i]) % 10\n",
    "    \n",
    "    df.drop(['Away score', 'Home score'], axis=1, inplace=True)\n",
    "    \n",
    "    return df"
   ]
  },
  {
   "cell_type": "markdown",
   "id": "8b811146",
   "metadata": {},
   "source": [
    "# Driver"
   ]
  },
  {
   "cell_type": "markdown",
   "id": "d350c2a6",
   "metadata": {},
   "source": [
    "## Create a list of urls for each year in the Super Bowl era\n",
    "Note: AFL and NFL for pre-merger years both include the Super Bowl in their data, so there are 4 duplicates in the data. They will be removed in pandas later."
   ]
  },
  {
   "cell_type": "code",
   "execution_count": 6,
   "id": "4c6d5bcb",
   "metadata": {},
   "outputs": [],
   "source": [
    "root = \"https://www.pro-football-reference.com/years/\"\n",
    "num_sbs = 55 # SB 55 was 2020 nfl season, sb1 was  1966 nfl season\n",
    "afl = \"_AFL\"\n",
    "pre_merger = []\n",
    "post_merger = []\n",
    "for i in range(num_sbs):\n",
    "    if(i < 4):\n",
    "        pre_merger.append(root + str(i+1966))\n",
    "        pre_merger.append(root + str(i+1966) + afl)\n",
    "    else:\n",
    "        post_merger.append(root + str(i+1966))"
   ]
  },
  {
   "cell_type": "markdown",
   "id": "79019af4",
   "metadata": {},
   "source": [
    "## Create a list of lists of playoff games"
   ]
  },
  {
   "cell_type": "code",
   "execution_count": 7,
   "id": "5e6413ff",
   "metadata": {},
   "outputs": [],
   "source": [
    "url_list = []\n",
    "for j in range(len(pre_merger)):\n",
    "    url_list.append(getPlayoffURLs(pre_merger[j], True))\n",
    "for k in range(len(post_merger)):\n",
    "    url_list.append(getPlayoffURLs(post_merger[k], False))"
   ]
  },
  {
   "cell_type": "markdown",
   "id": "43b4b001",
   "metadata": {},
   "source": [
    "## Go through each game in url_list and scrape data, then combine into final DataFrame that has duplicates removed"
   ]
  },
  {
   "cell_type": "code",
   "execution_count": 13,
   "id": "dcf3ac35",
   "metadata": {},
   "outputs": [
    {
     "name": "stderr",
     "output_type": "stream",
     "text": [
      "C:\\Users\\Nate\\anaconda3\\envs\\mlenv\\lib\\site-packages\\pandas\\core\\indexing.py:1637: SettingWithCopyWarning: \n",
      "A value is trying to be set on a copy of a slice from a DataFrame\n",
      "\n",
      "See the caveats in the documentation: https://pandas.pydata.org/pandas-docs/stable/user_guide/indexing.html#returning-a-view-versus-a-copy\n",
      "  self._setitem_single_block(indexer, value, name)\n"
     ]
    },
    {
     "data": {
      "text/html": [
       "<div>\n",
       "<style scoped>\n",
       "    .dataframe tbody tr th:only-of-type {\n",
       "        vertical-align: middle;\n",
       "    }\n",
       "\n",
       "    .dataframe tbody tr th {\n",
       "        vertical-align: top;\n",
       "    }\n",
       "\n",
       "    .dataframe thead th {\n",
       "        text-align: right;\n",
       "    }\n",
       "</style>\n",
       "<table border=\"1\" class=\"dataframe\">\n",
       "  <thead>\n",
       "    <tr style=\"text-align: right;\">\n",
       "      <th></th>\n",
       "      <th>Away</th>\n",
       "      <th>Home</th>\n",
       "      <th>Away Q1</th>\n",
       "      <th>Away Q2</th>\n",
       "      <th>Away Q3</th>\n",
       "      <th>Away Q4</th>\n",
       "      <th>Home Q1</th>\n",
       "      <th>Home Q2</th>\n",
       "      <th>Home Q3</th>\n",
       "      <th>Home Q4</th>\n",
       "    </tr>\n",
       "  </thead>\n",
       "  <tbody>\n",
       "    <tr>\n",
       "      <th>0</th>\n",
       "      <td>Green Bay Packers</td>\n",
       "      <td>Dallas Cowboys</td>\n",
       "      <td>4</td>\n",
       "      <td>1</td>\n",
       "      <td>8</td>\n",
       "      <td>4</td>\n",
       "      <td>4</td>\n",
       "      <td>7</td>\n",
       "      <td>0</td>\n",
       "      <td>7</td>\n",
       "    </tr>\n",
       "    <tr>\n",
       "      <th>1</th>\n",
       "      <td>Kansas City Chiefs</td>\n",
       "      <td>Green Bay Packers</td>\n",
       "      <td>0</td>\n",
       "      <td>0</td>\n",
       "      <td>0</td>\n",
       "      <td>0</td>\n",
       "      <td>7</td>\n",
       "      <td>4</td>\n",
       "      <td>8</td>\n",
       "      <td>5</td>\n",
       "    </tr>\n",
       "    <tr>\n",
       "      <th>2</th>\n",
       "      <td>Kansas City Chiefs</td>\n",
       "      <td>Buffalo Bills</td>\n",
       "      <td>7</td>\n",
       "      <td>7</td>\n",
       "      <td>7</td>\n",
       "      <td>1</td>\n",
       "      <td>7</td>\n",
       "      <td>7</td>\n",
       "      <td>7</td>\n",
       "      <td>7</td>\n",
       "    </tr>\n",
       "    <tr>\n",
       "      <th>4</th>\n",
       "      <td>Los Angeles Rams</td>\n",
       "      <td>Green Bay Packers</td>\n",
       "      <td>7</td>\n",
       "      <td>7</td>\n",
       "      <td>7</td>\n",
       "      <td>7</td>\n",
       "      <td>0</td>\n",
       "      <td>4</td>\n",
       "      <td>1</td>\n",
       "      <td>8</td>\n",
       "    </tr>\n",
       "    <tr>\n",
       "      <th>5</th>\n",
       "      <td>Cleveland Browns</td>\n",
       "      <td>Dallas Cowboys</td>\n",
       "      <td>0</td>\n",
       "      <td>7</td>\n",
       "      <td>7</td>\n",
       "      <td>4</td>\n",
       "      <td>4</td>\n",
       "      <td>4</td>\n",
       "      <td>5</td>\n",
       "      <td>2</td>\n",
       "    </tr>\n",
       "  </tbody>\n",
       "</table>\n",
       "</div>"
      ],
      "text/plain": [
       "                 Away               Home  Away Q1  Away Q2  Away Q3  Away Q4  \\\n",
       "0   Green Bay Packers     Dallas Cowboys        4        1        8        4   \n",
       "1  Kansas City Chiefs  Green Bay Packers        0        0        0        0   \n",
       "2  Kansas City Chiefs      Buffalo Bills        7        7        7        1   \n",
       "4    Los Angeles Rams  Green Bay Packers        7        7        7        7   \n",
       "5    Cleveland Browns     Dallas Cowboys        0        7        7        4   \n",
       "\n",
       "   Home Q1  Home Q2  Home Q3  Home Q4  \n",
       "0        4        7        0        7  \n",
       "1        7        4        8        5  \n",
       "2        7        7        7        7  \n",
       "4        0        4        1        8  \n",
       "5        4        4        5        2  "
      ]
     },
     "execution_count": 13,
     "metadata": {},
     "output_type": "execute_result"
    }
   ],
   "source": [
    "teams, scores = iterateGames(url_list)\n",
    "\n",
    "teams_df = pd.DataFrame(teams, columns=[\"Away\", \"Home\"])\n",
    "scores_df = pd.DataFrame(scores, columns=[\"Away score\", \"Home score\"])\n",
    "combined_df = teams_df.join(scores_df, how=\"inner\")\n",
    "\n",
    "final_df = quarterScores(combined_df)\n",
    "final_df.drop_duplicates(inplace=True)\n",
    "final_df.head()"
   ]
  },
  {
   "cell_type": "markdown",
   "id": "19e06c34",
   "metadata": {},
   "source": [
    "## Export Data"
   ]
  },
  {
   "cell_type": "code",
   "execution_count": 14,
   "id": "9624fa47",
   "metadata": {},
   "outputs": [],
   "source": [
    "final_df.to_csv('playoff_data.csv', index=False)"
   ]
  }
 ],
 "metadata": {
  "kernelspec": {
   "display_name": "Python 3",
   "language": "python",
   "name": "python3"
  },
  "language_info": {
   "codemirror_mode": {
    "name": "ipython",
    "version": 3
   },
   "file_extension": ".py",
   "mimetype": "text/x-python",
   "name": "python",
   "nbconvert_exporter": "python",
   "pygments_lexer": "ipython3",
   "version": "3.7.10"
  }
 },
 "nbformat": 4,
 "nbformat_minor": 5
}
