{
 "cells": [
  {
   "cell_type": "code",
   "execution_count": 1,
   "id": "44f01f9c",
   "metadata": {},
   "outputs": [],
   "source": [
    "import pandas as pd\n",
    "import requests\n",
    "from bs4 import BeautifulSoup\n",
    "import seaborn as sns\n",
    "%matplotlib inline\n",
    "pd.options.mode.chained_assignment = None  # default='warn'"
   ]
  },
  {
   "cell_type": "markdown",
   "id": "a7ed78d1",
   "metadata": {},
   "source": [
    "## Functions\n",
    "Iterate through each super bowl link (https://www.pro-football-reference.com/super-bowl) and scrape the box score. Final result is a dataFrame with 10 columns: 1 for each conference to hold the team name, and 1 for each quarter for each conference that holds the cumulative score's final digit"
   ]
  },
  {
   "cell_type": "code",
   "execution_count": 2,
   "id": "eec076b0",
   "metadata": {},
   "outputs": [],
   "source": [
    "def scrapeURL(URL):\n",
    "    page = requests.get(URL)\n",
    "    df_list = pd.read_html(page.text) # create a list from the webpage\n",
    "    df = df_list[0]\n",
    "    \n",
    "    # get the team names\n",
    "    team1 = df[\"Unnamed: 1\"][0]\n",
    "    team2 = df[\"Unnamed: 1\"][1]\n",
    "    teams = [team1, team2]\n",
    "    \n",
    "    # get the scores\n",
    "    scores1 = [int(df[\"1\"][0]), int(df[\"2\"][0]), int(df[\"3\"][0]), int(df[\"4\"][0])]\n",
    "    scores2 = [int(df[\"1\"][1]), int(df[\"2\"][1]), int(df[\"3\"][1]), int(df[\"4\"][1])]\n",
    "    scores = [scores1, scores2]\n",
    "    \n",
    "    return([teams, scores])"
   ]
  },
  {
   "cell_type": "code",
   "execution_count": 5,
   "id": "5c6ce44c",
   "metadata": {},
   "outputs": [],
   "source": [
    "def getURLs():\n",
    "    url = \"https://www.pro-football-reference.com/super-bowl\"\n",
    "    reqs = requests.get(url)\n",
    "    soup = BeautifulSoup(reqs.text, 'html.parser')\n",
    "    base = \"https://www.pro-football-reference.com/\"\n",
    "    \n",
    "    url_list = []\n",
    "    table = soup.find(class_=\"table_container\")  # table object -> body -> rows -> data -> link\n",
    "    tbody = table.find('tbody')\n",
    "    tr_body = tbody.find_all('tr')\n",
    "    for trb in tr_body:\n",
    "        for td in trb.find('td'):\n",
    "            try: \n",
    "                link = td.get('href')\n",
    "                if(link != \"None\"):\n",
    "                    url_list.append(base + link)\n",
    "            except:\n",
    "                pass\n",
    "    \n",
    "    return(url_list)                 "
   ]
  },
  {
   "cell_type": "code",
   "execution_count": 4,
   "id": "32963c5c",
   "metadata": {},
   "outputs": [],
   "source": [
    "# Step 3\n",
    "def iterateSuperBowls(data):\n",
    "    all_teams = []\n",
    "    all_scores = []\n",
    "    for row in data:\n",
    "        teams, scores = scrapeURL(row)\n",
    "        all_teams.append(teams)\n",
    "        all_scores.append(scores)\n",
    "    \n",
    "    return([all_teams, all_scores])      "
   ]
  },
  {
   "cell_type": "code",
   "execution_count": 6,
   "id": "792141d5",
   "metadata": {},
   "outputs": [],
   "source": [
    "def checkConf(df):\n",
    "    NFC = [\"Dallas Cowboys\", \"Philadelphia Eagles\", \"New York Giants\", \"Washington Football Team\",\n",
    "          \"Green Bay Packers\", \"Minnesota Vikings\", \"Chicago Bears\", \"Detroit Lions\",\n",
    "          \"Tampa Bay Buccaneers\", \"New Orleans Saints\", \"Atlanta Falcons\", \"Carolina Panthers\",\n",
    "          \"Arizona Cardinals\", \"Los Angeles Rams\", \"Seattle Seahawks\", \"San Francisco 49ers\",\n",
    "          \"Washington Redskins\", \"St. Louis Rams\"]\n",
    "    \n",
    "    for i in range(len(df[\"AFC\"])):  \n",
    "        if(df[\"AFC\"].iloc[i] in NFC):                      \n",
    "            dummy = df[\"AFC\"].iloc[i]      # store name to be swapped and make swap\n",
    "            df[\"AFC\"].iloc[i] = df[\"NFC\"].iloc[i]\n",
    "            df[\"NFC\"].iloc[i] = dummy\n",
    " \n",
    "            temp = df[\"AFC scores\"].iloc[i]   # store score to be swapped and make swap\n",
    "            df[\"AFC scores\"].iloc[i] = df[\"NFC scores\"].iloc[i]\n",
    "            df[\"NFC scores\"].iloc[i] = temp           \n",
    "    \n",
    "    return df"
   ]
  },
  {
   "cell_type": "code",
   "execution_count": 8,
   "id": "679b3ac5",
   "metadata": {},
   "outputs": [],
   "source": [
    "def quarter_scores(df):\n",
    "    # Create new column for individual quarters and set initial value to 0\n",
    "    df[\"AFC Q1\"] = df.apply(lambda x: 0, axis=1)\n",
    "    df[\"AFC Q2\"] = df.apply(lambda x: 0, axis=1)\n",
    "    df[\"AFC Q3\"] = df.apply(lambda x: 0, axis=1)\n",
    "    df[\"AFC Q4\"] = df.apply(lambda x: 0, axis=1)\n",
    "    df[\"NFC Q1\"] = df.apply(lambda x: 0, axis=1)\n",
    "    df[\"NFC Q2\"] = df.apply(lambda x: 0, axis=1)\n",
    "    df[\"NFC Q3\"] = df.apply(lambda x: 0, axis=1)\n",
    "    df[\"NFC Q4\"] = df.apply(lambda x: 0, axis=1)\n",
    "\n",
    "    # update score with only last digit for each quarter\n",
    "    for i in range(len(combined_df[\"AFC\"])):\n",
    "        df[\"AFC Q1\"].iloc[i] = df[\"AFC scores\"].iloc[i][0] % 10\n",
    "        df[\"AFC Q2\"].iloc[i] = (df[\"AFC scores\"].iloc[i][1] + df[\"AFC Q1\"].iloc[i]) % 10\n",
    "        df[\"AFC Q3\"].iloc[i] = (df[\"AFC scores\"].iloc[i][2] + df[\"AFC Q2\"].iloc[i]) % 10\n",
    "        df[\"AFC Q4\"].iloc[i] = (df[\"AFC scores\"].iloc[i][3] + df[\"AFC Q3\"].iloc[i]) % 10\n",
    "        df[\"NFC Q1\"].iloc[i] = df[\"NFC scores\"].iloc[i][0] % 10\n",
    "        df[\"NFC Q2\"].iloc[i] = (df[\"NFC scores\"].iloc[i][1] + df[\"NFC Q1\"].iloc[i]) % 10\n",
    "        df[\"NFC Q3\"].iloc[i] = (df[\"NFC scores\"].iloc[i][2] + df[\"NFC Q2\"].iloc[i]) % 10\n",
    "        df[\"NFC Q4\"].iloc[i] = (df[\"NFC scores\"].iloc[i][3] + df[\"NFC Q3\"].iloc[i]) % 10\n",
    "    \n",
    "    df.drop(['AFC scores', 'NFC scores'], axis=1, inplace=True)\n",
    "    \n",
    "    return df"
   ]
  },
  {
   "cell_type": "markdown",
   "id": "cc95c271",
   "metadata": {},
   "source": [
    "## Driver    \n",
    "**getUrls** scrapes the website for all urls to individual super bowl box squares     \n",
    "**iterateSuperBowls** goes through each super bowl url and calls **scrapeURL** to get the data, and then adds the data to teams and scores dataframes\n",
    "\n",
    "The data is ordered by descending super bowl number by default, so teams and scores are reversed to get them in ascending order. **checkConf** will check for NFC teams labeled as AFC, and switch values to appropriate column if needed. \n",
    "\n",
    "Note: SuperBowl 3 featured the New York Jets and the Baltimore Colts, where both teams are currently in the AFC. The Jets got labeled as the AFC team and I decided to leave it\n",
    "\n",
    "**quarter_scores** creates columns for each quarter and calculates the cumulative final digit"
   ]
  },
  {
   "cell_type": "code",
   "execution_count": 9,
   "id": "45f0407e",
   "metadata": {},
   "outputs": [],
   "source": [
    "teams, scores = iterateSuperBowls(getURLs())\n",
    "teams.reverse()\n",
    "scores.reverse()\n",
    "\n",
    "teams_df = pd.DataFrame(teams, columns=[\"AFC\",\"NFC\"])\n",
    "scores_df = pd.DataFrame(scores, columns=[\"AFC scores\", \"NFC scores\"])\n",
    "combined_df = teams_df.join(scores_df, how=\"inner\")\n",
    "\n",
    "# fix conference labeling\n",
    "cleaned_df = checkConf(combined_df)\n",
    "\n",
    "# create final DataFrame\n",
    "final_df = quarter_scores(cleaned_df)"
   ]
  },
  {
   "cell_type": "markdown",
   "id": "09954def",
   "metadata": {},
   "source": [
    "## Export data"
   ]
  },
  {
   "cell_type": "code",
   "execution_count": 11,
   "id": "2fd84736",
   "metadata": {},
   "outputs": [],
   "source": [
    "final_df.to_csv('data.csv', index=False) \n",
    "\n",
    "# include initial raw data for other analysis if wanted\n",
    "teams_df.to_csv('teams.csv', index=False)\n",
    "scores_df.to_csv('scores.csv', index=False)"
   ]
  }
 ],
 "metadata": {
  "kernelspec": {
   "display_name": "Python 3",
   "language": "python",
   "name": "python3"
  },
  "language_info": {
   "codemirror_mode": {
    "name": "ipython",
    "version": 3
   },
   "file_extension": ".py",
   "mimetype": "text/x-python",
   "name": "python",
   "nbconvert_exporter": "python",
   "pygments_lexer": "ipython3",
   "version": "3.7.10"
  }
 },
 "nbformat": 4,
 "nbformat_minor": 5
}
