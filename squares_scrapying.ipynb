{
 "cells": [
  {
   "cell_type": "code",
   "execution_count": 1,
   "id": "44f01f9c",
   "metadata": {},
   "outputs": [],
   "source": [
    "import pandas as pd\n",
    "import requests\n",
    "from bs4 import BeautifulSoup"
   ]
  },
  {
   "cell_type": "code",
   "execution_count": null,
   "id": "b31d4181",
   "metadata": {},
   "outputs": [],
   "source": [
    "# Source root: https://www.pro-football-reference.com/super-bowl/\n",
    "\"\"\" super bowls are listed in descending year with a link in 2nd column (determine class id)\n",
    "Goal: iterate through each link and perform scraping of box score\n",
    "Step 1: perform scraping from individual page\n",
    "Step 2: navigate from root to individual page\n",
    "Step 3: go through all links and scrape data \"\"\"\n",
    "# What are the odds of winning for each square?\n",
    "# Which pair of scores (ex: 3,7 and 7,3) have the highest combined odds of winning?"
   ]
  },
  {
   "cell_type": "code",
   "execution_count": 2,
   "id": "c5fd36bf",
   "metadata": {},
   "outputs": [],
   "source": [
    "# Step 1\n",
    "def scrapeURL(URL):\n",
    "    page = requests.get(URL)\n",
    "    df_list = pd.read_html(page.text) # create a list from the webpage\n",
    "    df = df_list[0] # create a dataframe from the list above\n",
    "    \n",
    "    # get the team names - to return later with scores\n",
    "    nfc_team = df[\"Unnamed: 1\"][0]\n",
    "    afc_team = df[\"Unnamed: 1\"][1]\n",
    "    teams = [nfc_team, afc_team]\n",
    "    \n",
    "    # get the scores\n",
    "    nfc_scores = [df[\"1\"][0], df[\"2\"][0], df[\"3\"][0], df[\"4\"][0]]\n",
    "    afc_scores = [df[\"1\"][1], df[\"2\"][1], df[\"3\"][1], df[\"4\"][1]]\n",
    "    scores = [nfc_scores, afc_scores]\n",
    "    \n",
    "    return([teams, scores])"
   ]
  },
  {
   "cell_type": "code",
   "execution_count": 3,
   "id": "5c6ce44c",
   "metadata": {},
   "outputs": [],
   "source": [
    "# Step 2\n",
    "def getURLs():\n",
    "    url = \"https://www.pro-football-reference.com/super-bowl\"\n",
    "    reqs = requests.get(url)\n",
    "    soup = BeautifulSoup(reqs.text, 'html.parser')\n",
    "    \n",
    "    base = \"https://www.pro-football-reference.com/\"\n",
    "    url_list = []\n",
    "    table = soup.find(class_=\"table_container\")\n",
    "    tbody = table.find('tbody')\n",
    "    tr_body = tbody.find_all('tr')\n",
    "    for trb in tr_body:\n",
    "        for td in trb.find('td'):\n",
    "            try:\n",
    "                link = td.get('href')\n",
    "                if(link != \"None\"):\n",
    "                    url_list.append(base + link)\n",
    "            except:\n",
    "                pass\n",
    "    \n",
    "    return(url_list)                 "
   ]
  },
  {
   "cell_type": "code",
   "execution_count": 4,
   "id": "32963c5c",
   "metadata": {},
   "outputs": [],
   "source": [
    "# Step 3\n",
    "def iterateSuperBowls(data):\n",
    "    all_teams = []\n",
    "    all_scores = []\n",
    "    for row in data:\n",
    "        teams, scores = scrapeURL(row)\n",
    "        all_teams.append(teams)\n",
    "        all_scores.append(scores)\n",
    "    \n",
    "    return([all_teams, all_scores])      "
   ]
  },
  {
   "cell_type": "code",
   "execution_count": 5,
   "id": "45f0407e",
   "metadata": {},
   "outputs": [
    {
     "name": "stdout",
     "output_type": "stream",
     "text": [
      "[[['Tampa Bay Buccaneers', 'Kansas City Chiefs'], ['San Francisco 49ers', 'Kansas City Chiefs'], ['Los Angeles Rams', 'New England Patriots'], ['Philadelphia Eagles', 'New England Patriots'], ['New England Patriots', 'Atlanta Falcons'], ['Denver Broncos', 'Carolina Panthers'], ['Seattle Seahawks', 'New England Patriots'], ['Seattle Seahawks', 'Denver Broncos'], ['San Francisco 49ers', 'Baltimore Ravens'], ['New York Giants', 'New England Patriots'], ['Pittsburgh Steelers', 'Green Bay Packers'], ['New Orleans Saints', 'Indianapolis Colts'], ['Pittsburgh Steelers', 'Arizona Cardinals'], ['New York Giants', 'New England Patriots'], ['Indianapolis Colts', 'Chicago Bears'], ['Seattle Seahawks', 'Pittsburgh Steelers'], ['Philadelphia Eagles', 'New England Patriots'], ['New England Patriots', 'Carolina Panthers'], ['Tampa Bay Buccaneers', 'Oakland Raiders'], ['St. Louis Rams', 'New England Patriots'], ['Baltimore Ravens', 'New York Giants'], ['St. Louis Rams', 'Tennessee Titans'], ['Denver Broncos', 'Atlanta Falcons'], ['Green Bay Packers', 'Denver Broncos'], ['New England Patriots', 'Green Bay Packers'], ['Pittsburgh Steelers', 'Dallas Cowboys'], ['San Francisco 49ers', 'San Diego Chargers'], ['Dallas Cowboys', 'Buffalo Bills'], ['Dallas Cowboys', 'Buffalo Bills'], ['Washington Redskins', 'Buffalo Bills'], ['New York Giants', 'Buffalo Bills'], ['San Francisco 49ers', 'Denver Broncos'], ['San Francisco 49ers', 'Cincinnati Bengals'], ['Washington Redskins', 'Denver Broncos'], ['New York Giants', 'Denver Broncos'], ['New England Patriots', 'Chicago Bears'], ['San Francisco 49ers', 'Miami Dolphins'], ['Washington Redskins', 'Los Angeles Raiders'], ['Washington Redskins', 'Miami Dolphins'], ['San Francisco 49ers', 'Cincinnati Bengals'], ['Oakland Raiders', 'Philadelphia Eagles'], ['Los Angeles Rams', 'Pittsburgh Steelers'], ['Pittsburgh Steelers', 'Dallas Cowboys'], ['Denver Broncos', 'Dallas Cowboys'], ['Oakland Raiders', 'Minnesota Vikings'], ['Pittsburgh Steelers', 'Dallas Cowboys'], ['Pittsburgh Steelers', 'Minnesota Vikings'], ['Minnesota Vikings', 'Miami Dolphins'], ['Washington Redskins', 'Miami Dolphins'], ['Miami Dolphins', 'Dallas Cowboys'], ['Dallas Cowboys', 'Baltimore Colts'], ['Minnesota Vikings', 'Kansas City Chiefs'], ['New York Jets', 'Baltimore Colts'], ['Oakland Raiders', 'Green Bay Packers'], ['Kansas City Chiefs', 'Green Bay Packers']], [[[7, 14, 10, 0], [3, 3, 3, 0]], [[3, 7, 10, 0], [7, 3, 0, 21]], [[0, 0, 3, 0], [0, 3, 0, 10]], [[9, 13, 7, 12], [3, 9, 14, 7]], [[0, 3, 6, 19], [0, 21, 7, 0]], [[10, 3, 3, 8], [0, 7, 0, 3]], [[0, 14, 10, 0], [0, 14, 0, 14]], [[8, 14, 14, 7], [0, 0, 8, 0]], [[3, 3, 17, 8], [7, 14, 7, 6]], [[9, 0, 6, 6], [0, 10, 7, 0]], [[0, 10, 7, 8], [14, 7, 0, 10]], [[0, 6, 10, 15], [10, 0, 7, 0]], [[3, 14, 3, 7], [0, 7, 0, 16]], [[3, 0, 0, 14], [0, 7, 0, 7]], [[6, 10, 6, 7], [14, 0, 3, 0]], [[3, 0, 7, 0], [0, 7, 7, 7]], [[0, 7, 7, 7], [0, 7, 7, 10]], [[0, 14, 0, 18], [0, 10, 0, 19]], [[3, 17, 14, 14], [3, 0, 6, 12]], [[3, 0, 0, 14], [0, 14, 3, 3]], [[7, 3, 14, 10], [0, 0, 7, 0]], [[3, 6, 7, 7], [0, 0, 6, 10]], [[7, 10, 0, 17], [3, 3, 0, 13]], [[7, 7, 3, 7], [7, 10, 7, 7]], [[14, 0, 7, 0], [10, 17, 8, 0]], [[0, 7, 0, 10], [10, 3, 7, 7]], [[14, 14, 14, 7], [7, 3, 8, 8]], [[6, 0, 14, 10], [3, 10, 0, 0]], [[14, 14, 3, 21], [7, 3, 7, 0]], [[0, 17, 14, 6], [0, 0, 10, 14]], [[3, 7, 7, 3], [3, 9, 0, 7]], [[13, 14, 14, 14], [3, 0, 7, 0]], [[3, 0, 3, 14], [0, 3, 10, 3]], [[0, 35, 0, 7], [10, 0, 0, 0]], [[7, 2, 17, 13], [10, 0, 0, 10]], [[3, 0, 0, 7], [13, 10, 21, 2]], [[7, 21, 10, 0], [10, 6, 0, 0]], [[0, 3, 6, 0], [7, 14, 14, 3]], [[0, 10, 3, 14], [7, 10, 0, 0]], [[7, 13, 0, 6], [0, 0, 7, 14]], [[14, 0, 10, 3], [0, 3, 0, 7]], [[7, 6, 6, 0], [3, 7, 7, 14]], [[7, 14, 0, 14], [7, 7, 3, 14]], [[0, 0, 10, 0], [10, 3, 7, 7]], [[0, 16, 3, 13], [0, 0, 7, 7]], [[7, 0, 0, 14], [7, 3, 0, 7]], [[0, 2, 7, 7], [0, 0, 0, 6]], [[0, 0, 0, 7], [14, 3, 7, 0]], [[0, 0, 0, 7], [7, 7, 0, 0]], [[0, 3, 0, 0], [3, 7, 7, 7]], [[3, 10, 0, 0], [0, 6, 0, 10]], [[0, 0, 7, 0], [3, 13, 7, 0]], [[0, 7, 6, 3], [0, 0, 0, 7]], [[0, 7, 0, 7], [3, 13, 10, 7]], [[0, 10, 0, 0], [7, 7, 14, 7]]]]\n"
     ]
    }
   ],
   "source": [
    "# Final product\n",
    "data = iterateSuperBowls(getURLs())\n",
    "print(data)"
   ]
  },
  {
   "cell_type": "code",
   "execution_count": null,
   "id": "c170bca1",
   "metadata": {},
   "outputs": [],
   "source": []
  }
 ],
 "metadata": {
  "kernelspec": {
   "display_name": "Python 3",
   "language": "python",
   "name": "python3"
  },
  "language_info": {
   "codemirror_mode": {
    "name": "ipython",
    "version": 3
   },
   "file_extension": ".py",
   "mimetype": "text/x-python",
   "name": "python",
   "nbconvert_exporter": "python",
   "pygments_lexer": "ipython3",
   "version": "3.7.10"
  }
 },
 "nbformat": 4,
 "nbformat_minor": 5
}
